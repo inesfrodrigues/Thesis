{
 "cells": [
  {
   "cell_type": "markdown",
   "id": "bdddfbf7",
   "metadata": {},
   "source": [
    "# H-MHSA"
   ]
  },
  {
   "cell_type": "code",
   "execution_count": 5,
   "id": "2f77aad0",
   "metadata": {},
   "outputs": [],
   "source": [
    "import torch\n",
    "import torch.nn as nn\n",
    "import torch.nn.functional as F\n",
    "\n",
    "import torchvision\n",
    "import torchvision.transforms as transforms\n",
    "\n",
    "import torch.optim as optim\n",
    "\n",
    "import matplotlib.pyplot as plt\n",
    "import numpy as np"
   ]
  },
  {
   "cell_type": "code",
   "execution_count": 2,
   "id": "1607a4b8",
   "metadata": {},
   "outputs": [],
   "source": [
    "class CNN(nn.Module):\n",
    "    def __init__(self, kernel_size, stride, padding): # kernel = 3, stride = 2, padding = 1\n",
    "        super(CNN, self).__init__()\n",
    "        self.conv1 = nn.Conv2d(in_channels = 3, out_channels = 16, kernel_size = kernel_size, stride = stride, padding = padding)\n",
    "        #bias=True - put false??\n",
    "        self.bn1 = nn.BatchNorm2d(16)\n",
    "        self.conv2 = nn.Conv2d(in_channels = 16, out_channels = 64, kernel_size = kernel_size, stride = stride, padding = padding)\n",
    "        self.bn2 = nn.BatchNorm2d(64)\n",
    "        self.silu = nn.SiLU()\n",
    "        \n",
    "    def forward(self, x):\n",
    "        x = self.conv1(x)\n",
    "        x = self.bn1(x)\n",
    "        x = self.silu(x)\n",
    "        x = self.conv2(x)\n",
    "        x = self.bn2(x)\n",
    "        x = self.silu(x)\n",
    "        #x = torch.flatten(x, 1)\n",
    "        \n",
    "        return x\n",
    "\n",
    "cnn = CNN()"
   ]
  },
  {
   "cell_type": "code",
   "execution_count": null,
   "id": "672a778a",
   "metadata": {},
   "outputs": [],
   "source": [
    "class Downsample(nn.Module): #page 4, paragraph 2\n",
    "    def __init__(self, in_channels, out_channels, kernel_size): #kernel = 3\n",
    "        super().__init__()\n",
    "        self.conv = nn.Conv2d(in_channels, out_channels, kernel_size, padding = 1, stride = 2)\n",
    "        self.bn = nn.BatchNorm2d(out_channels)\n",
    "\n",
    "    def forward(self, x):\n",
    "        x = self.conv(x)\n",
    "        x = self.bn(x)\n",
    "        \n",
    "        return x"
   ]
  },
  {
   "cell_type": "code",
   "execution_count": 8,
   "id": "6ec6cfda",
   "metadata": {},
   "outputs": [],
   "source": [
    "class HMHSA(nn.Module):\n",
    "    def __init__(self, dim, head, grid_size, ds_ratio, drop): # we have an embedding and we are going to split it in (heads) =! parts\n",
    "        super(SelfAttention, self).__init__()\n",
    "        self.dim = dim\n",
    "        self.head = head\n",
    "        self.num_heads = dim // head\n",
    "        self.grid_size = grid_size\n",
    "        \n",
    "        assert (self.num_heads * head == dim), \"Dim needs to be divisible by Head.\"\n",
    "        \n",
    "        self.qkv = nn.Linear(self.dim, self.dim, bias = False) # q, k, v are all the same   # DUV \n",
    "        #self.qkv = nn.Conv2d(dim, dim * 3, 1)\n",
    "        # DUV - why bias = False?\n",
    "        self.proj = nn.Conv2d(dim, dim, 1) # DUV\n",
    "        self.drop = nn.Dropout2d(drop, inplace = True)\n",
    "\n",
    "        if grid_size > 1:\n",
    "            self.norm1 = nn.GroupNorm(1, dim)\n",
    "            self.avg_pool = nn.AvgPool2d(ds_ratio, stride = ds_ratio) # DUV - average pooling with both the kernel size and stride of G2\n",
    "            self.q = nn.Linear(self.dim, self.dim, bias = False) # DUV\n",
    "            #self.q = nn.Conv2d(dim, dim, 1)\n",
    "            self.kv = nn.Linear(self.dim, self.dim, bias = False) # DUV\n",
    "            #self.kv = nn.Conv2d(dim, dim * 2, 1)\n",
    "        \n",
    "    def forward(self, x, mask): # DUV mask\n",
    "        N, C, H, W = x.shape # N - nº samples, C, H, W - feature dimension, height, width of x (see paper)\n",
    "        qkv = self.qkv(x) # do linear\n",
    "        #qkv = self.qkv(self.norm(x))\n",
    "\n",
    "        if self.grid_size > 1:\n",
    "\n",
    "            # formula (6)\n",
    "            grid_h, grid_w = H // self.grid_size, W // self.grid_size # grid_h - H/G_1; grid_w - W/G_1 -> paper(6)\n",
    "            qkv = qkv.reshape(N, 3, self.num_heads, self.head, grid_h, self.grid_size, grid_w, self.grid_size) # 3 bc qkv; head=C; grid_h*grid_size=H... -> paper(6) --- DUV NUM_HEADS\n",
    "            qkv = qkv.permute(1, 0, 2, 4, 6, 5, 7, 3) # (3, N, num_heads, grid_h, grid_w, grid_size, grid_size, head) -> paper(6) 2nd eq.\n",
    "            qkv = qkv.reshape(3, -1, self.grid_size * self.grid_size, self.head) # -1 -> single dim --- DUV WHY --- -> reshape to paper(6) 2nd eq.\n",
    "            query, key, value = qkv[0], qkv[1], qkv[2]\n",
    "        \n",
    "            # eq. (2)\n",
    "            attention = query @ key.transpose(-2, -1) # DUV TRANSPOSE\n",
    "\n",
    "            if mask is not None:\n",
    "                attention = attention.masked_fill(mask = 0, value = float(\"-1e20\"))\n",
    "\n",
    "            attention = torch.softmax(attention / (self.dim ** (1/2)), dim = -1) # DUV SOFTMAX DIM\n",
    "\n",
    "            # formula (8)\n",
    "            attention_x = (attention @ value).reshape(N, self.num_heads, grid_h, grid_w, self.grid_size, self.grid_size, self.head)\n",
    "            attention_x = attention_x.permute(0, 1, 6, 2, 4, 3, 5).reshape(N, C, H, W) # (N, num_heads, head, grid_h, grid_size, grid_w, grid_size)\n",
    "\n",
    "            # DUV NOT CONCATENAT AFTER ATTENTION?\n",
    "\n",
    "            #formula (9)\n",
    "            attention_x = self.norm1(attention_x + x)\n",
    "            #grid_x = self.grid_norm(x + grid_x)\n",
    "\n",
    "            # DUV NOT FEED FORWARD?\n",
    "\n",
    "            # formula (10)\n",
    "            kv = self.kv(self.avg_pool(attention_x))\n",
    "            #kv = self.kv(self.ds_norm(self.avg_pool(grid_x)))\n",
    "\n",
    "            # formula (11)(12)\n",
    "            query = self.q(attention_x).reshape(N, self.num_heads, self.head, -1) #DUV -1\n",
    "            query = query.transpose(-2, -1) # (N, num_heads, -1, head) \n",
    "            kv = kv.reshape(N, 2, self.num_heads, self.head, -1) # DUV -1\n",
    "            kv = kv.permute(1, 0, 2, 4, 3) # (2, N, num_heads, -1, head)\n",
    "            key, value = kv[0], kv[1]\n",
    "\n",
    "        else:\n",
    "            qkv = qkv.reshape(N, 3, self.num_heads, self.head, -1)\n",
    "            qkv = qkv.permute(1, 0, 2, 4, 3) # (2, N, num_heads, -1, head)\n",
    "            query, key, value = qkv[0], qkv[1], qkv[2]  \n",
    "\n",
    "        # eq. (2)\n",
    "        attention = query @ key.transpose(-2, -1)\n",
    "\n",
    "        if mask is not None:\n",
    "                attention = attention.masked_fill(mask = 0, value = float(\"-1e20\"))\n",
    "\n",
    "        attention = torch.softmax(attention / (self.dim ** (1/2)), dim = -1)\n",
    "\n",
    "        # formula (13)\n",
    "        global_attention_x = (attention @ value).transpose(-2, -1).reshape(N, C, H, W)\n",
    "\n",
    "        # DUV NOT CONCATENAT?\n",
    "        # DUV NOT NORM AND FEED FORWARD?\n",
    "\n",
    "        # formula (14)\n",
    "        if self.grid_size > 1:\n",
    "            global_attention_x = global_attention_x + attention_x\n",
    "\n",
    "        x = self.drop(self.proj(global_attention_x)) # DUV DROP, why not add x \n",
    "        \n",
    "        return x"
   ]
  },
  {
   "cell_type": "code",
   "execution_count": null,
   "id": "95a2cb29",
   "metadata": {},
   "outputs": [],
   "source": [
    "#we add a depthwise separable convolution (DW-Conv) [30] inside the MLP as widely done.\n"
   ]
  },
  {
   "cell_type": "code",
   "execution_count": 148,
   "id": "fab915c8",
   "metadata": {},
   "outputs": [],
   "source": [
    "# VER VIDEO DE NOVO\n",
    "\n",
    "class SelfAttention(nn.Module):\n",
    "    def __init__(self, embed_size, heads): # change name embed_size,heads - we have an embedding and we are going to split it in (heads) =! parts\n",
    "        super(SelfAttention, self).__init__()\n",
    "        self.embed_size = embed_size\n",
    "        self.heads = heads\n",
    "        self.head_dim = embed_size // heads\n",
    "        \n",
    "        assert (self.head_dim * heads == embed_size), \"Embed size needs to be divisible by heads.\"\n",
    "        \n",
    "        #1. in __init__:  self.queries = nn.Linear(self.embed_size, self.embed_size, bias=False) (same for key and value weights)\n",
    "        #2. in forward: put \"queries = self.queries(queries)\" above \"queries = queries.reshape(...)\" (also same for keys and values)\n",
    "        # before - self.head_dim on self.embed_size\n",
    "        \n",
    "        self.values = nn.Linear(self.embed_size, self.embed_size, bias = False)\n",
    "        self.keys = nn.Linear(self.embed_size, self.embed_size, bias = False)\n",
    "        self.queries = nn.Linear(self.embed_size, self.embed_size, bias = False)\n",
    "        # DUV - why bias = False?\n",
    "        self.fc_out = nn.Linear(head * self.head_dim, embed_size) # concatenat\n",
    "        \n",
    "    def forward(self, values, keys, queries, mask): # DUV mask\n",
    "        N = queries.shape[0]\n",
    "        value_len, key_len, query_len = values.shape[1], keys.shape[1], queries.shape[1]\n",
    "        \n",
    "        # do linear\n",
    "        values = self.values(values)\n",
    "        keys = self.keys(keys)\n",
    "        queries = self.queries(queries)\n",
    "        \n",
    "        # split embedding into each heads pieces\n",
    "        values = values.reshape(N, value_len, self.heads, self.head_dim) \n",
    "        keys = keys.reshape(N, keys_len, self.heads, self.head_dim) \n",
    "        queries = queries.reshape(N, queries_len, self.heads, self.head_dim) \n",
    "        # 1 - nº conj matrix, 2 - nº matrix, 3 - lines, 4 - columns --- DUV\n",
    "        \n",
    "        # calculate QK^T\n",
    "        energy = torch.einsum(\"nqhd,nkhd->nhqk\", [queries, keys])\n",
    "        # queries shape: (N, query_len, heads, heads_dim)\n",
    "        # keys shape: (N, key_len, heads, heads_dim)\n",
    "        # energy shape: (N, heads, query_len, key_len) --- DUV\n",
    "        \n",
    "        if mask is not None:\n",
    "            energy = energy.masked_fill(mask = 0, value = float(\"-1e20\"))\n",
    "            \n",
    "        attention = torch.softmax(energy / (self.embed_size ** (1/2)), dim = 3)\n",
    "        # DUV - dim=3\n",
    "        \n",
    "        out = self.fc_out(out)\n",
    "        \n",
    "        return out"
   ]
  },
  {
   "cell_type": "code",
   "execution_count": 149,
   "id": "aa8cc188",
   "metadata": {},
   "outputs": [],
   "source": [
    "# VER VIDEO DE NOVO\n",
    "\n",
    "class TransformerBlock(nn.Module):\n",
    "    def __init__(self, embed_size, heads, dropout, forward_expansion):\n",
    "        super(TransformerBlock, self).__init__()\n",
    "        self.attention = SelfAttention(embed_size, heads)\n",
    "        self.norm1 = nn.LayerNorm(embed_size)\n",
    "        self.norm2 = nn.LayerNorm(embed_size)\n",
    "        \n",
    "        # Position-wise Feed-Forward Network (2)\n",
    "        self.feed_forward = nn.Sequential(\n",
    "            nn.Linear(embed_size, forward_expansion * embed_size),\n",
    "            nn.ReLU(),\n",
    "            nn.Linear(forward_expansion * embed_size, embed_size)\n",
    "        )\n",
    "        \n",
    "        # applying dropout after the feed forward network and the mha to prevent overfitting\n",
    "        self.dropout = nn.Dropout(dropout)\n",
    "    \n",
    "    def forward(self, value, key, query, mask):\n",
    "        attention = self.attention(value, key, query, mask)\n",
    "        \n",
    "        x = self.dropout(self.norm1(attention + query)) # + -> skip connection\n",
    "        forward = self.feed_forward(x)\n",
    "        out = self.dropout(self.norm2(forward + x))\n",
    "        \n",
    "        return out"
   ]
  },
  {
   "cell_type": "code",
   "execution_count": 151,
   "id": "31621f82",
   "metadata": {},
   "outputs": [],
   "source": [
    "#ver video\n",
    "\n",
    "class Encoder(nn.Module):\n",
    "    def __init__(self, source_vocab_size, embed_size, num_layers, heads, device, forward_expansion, dropout, max_length):\n",
    "        super(Encoder, self).__init__()\n",
    "        self.embed_size = embed_size\n",
    "        self.device = device # DUV - what is device?\n",
    "        self.word_embedding = nn.Embedding(source_vocab_size, embed_size) # DUV\n",
    "        self.position_embedding = nn.Embedding(max_length, embed_size) # DUV\n",
    "        \n",
    "        self.layers = nn.ModuleList( # DUV - modulelist\n",
    "            [\n",
    "                TransformersBlock(embed_size, heads, dropout = dropout, forward_expansion = forward_expansion)\n",
    "            for _ in range(num_layers)]\n",
    "        )\n",
    "        self.dropout = nn.Droupout(droupout)\n",
    "        \n",
    "    def forward(self, x, mask):\n",
    "        N, seq_length = x.shape\n",
    "        # getting positions\n",
    "        positions = torch.arange(0, seq_length).expand(N, seq_length).to(self.device)\n",
    "        \n",
    "        out = self.dropout(self.word_embedding(x) + self.position_embedding(positions)) # input embedding + positional encoding\n",
    "        \n",
    "        for layer in self.layers:\n",
    "            out = layer(out, out, out, mask) # key, value, query are all the same = out\n",
    "            \n",
    "        return out"
   ]
  },
  {
   "cell_type": "code",
   "execution_count": 152,
   "id": "c41ee795",
   "metadata": {},
   "outputs": [],
   "source": [
    "class DecoderBlock(nn.Module):\n",
    "    def __init__(self, embed_size, heads, forward_expansion, dropout, device):\n",
    "        super(DecoderBlock, self).__init__()\n",
    "        self.attention = SelfAttention(embed_size, heads)\n",
    "        self.norm = nn.LayerNorm(embed_size)\n",
    "        self.transformer_block = TransformerBlock(embed_size, heads, dropout, forward_expansion)\n",
    "        self.dropout = nn.Droupout(dropout)\n",
    "        \n",
    "    def forward(self, x, value, key, source_mask, target_mask): # source mask and target mask difference - 1st is the one for the encoder (opt.), 2nd is for the decoder\n",
    "        attention = self.attention(x, x, x, target_mask) # all the 3 inputs - k, q, v are the same\n",
    "        query = self.droupout(self.norm(attention + x)) # skip connection; what we obtain from this block is the query for the next\n",
    "        out = self.transformer_block(value, key, query, source_mask)\n",
    "        \n",
    "        return out"
   ]
  },
  {
   "cell_type": "code",
   "execution_count": 153,
   "id": "69a189f6",
   "metadata": {},
   "outputs": [],
   "source": [
    "class Decoder(nn.Module):\n",
    "    def __init__(self, target_vocab_si, embed_size, num_layers, heads, device, forward_expansion, dropout, max_length):\n",
    "        super(Decoder, self).__init__()\n",
    "        self.device = device\n",
    "        self.word_embedding = nn.Embedding(target_vocab_size, embed_size)\n",
    "        self.position_embedding = nn.Embedding(max_length, embed_size)\n",
    "        \n",
    "        self.layers = nn.ModuleList(\n",
    "            [\n",
    "                DecoderBlock(mebed_size, heads, forward_expansion, dropout, device)\n",
    "            for _ in range(num_layers)]\n",
    "        )\n",
    "        \n",
    "        self.fc_out = nn.Linear(embed_size, target_vocab_size) # concatenat\n",
    "        self.dropout = nn.Dropout(dropout)\n",
    "        \n",
    "    def forward(self, x, enc_out, source_mask, target_mask):\n",
    "        N, seq_length = x.shape\n",
    "        positions = torch.arange(0, seq_length).expand(N, seq_length).to(self.device)\n",
    "        x = self.dropout(self.word_embedding(x) + self.position_embedding(positions))\n",
    "        \n",
    "        for layer in self.layers:\n",
    "            x = layer(x, enc_out, enc_out, source_mask, target_mask) # k and v are the output of the encoder, q is x\n",
    "            \n",
    "        out = self.fc_out(x)\n",
    "        \n",
    "        return out"
   ]
  },
  {
   "cell_type": "code",
   "execution_count": 155,
   "id": "55183e7b",
   "metadata": {},
   "outputs": [],
   "source": [
    "class Transformer(nn.Module):\n",
    "    def __init__(self, source_vocabe_size, target_vocab_size, source_pad_index, target_pad_index, embed_size = 256, num_layers = 6, forward_expansion = 4, heads = 8, dropout = 0, device = \"cuda\", max_length = 100):\n",
    "        super(Transformer, self).__init__()\n",
    "        \n",
    "        self.encoder = Encoder(source_vocab_size, embed_size, num_layers, heads, device, forward_expansion, dropout, max_length)\n",
    "        \n",
    "        self.decoder = Decoder(target_vocab_size, embed_size, num_layers, heads, device, forward_expansion, dropout, max_length)\n",
    "        \n",
    "        self.source_pad_index = source_pad_index \n",
    "        self.target_pag_index = target_pad_index # DUV what is pad?\n",
    "        self.device = device\n",
    "        \n",
    "    def make_source_mask(self, source):\n",
    "        # if is a source_pad_index is going to be set to 0, and if not 1 \n",
    "        source_mask = (source != self.source_pad_index).unsqueeze(1).unsqueeze(2) # DUV\n",
    "        # source mask shape: (N, 1, 1, source_len)\n",
    "        \n",
    "        return source_mask.to(self.device)\n",
    "    \n",
    "    def make_target_mask(self, target):\n",
    "        N, target_len = target.shape\n",
    "        \n",
    "        # creating a triang matrix with 1 and expand\n",
    "        target_mask = torch.tril(torch.ones(target_len, target_len)).expand(N, 1, target_len, target_len)\n",
    "        \n",
    "        return target_mask.to(self.device)\n",
    "    \n",
    "    def forward(self, source, target):\n",
    "        source_mask = self.make_source_mask(source)\n",
    "        target_mask = self.target_source_mask(target)\n",
    "        enc_source = self.encoder(self, source_mask)\n",
    "        out = self.decoder(target, enc_source, source_mask, target_mask)\n",
    "        \n",
    "        return out"
   ]
  },
  {
   "cell_type": "code",
   "execution_count": 128,
   "id": "03d3023a",
   "metadata": {},
   "outputs": [
    {
     "data": {
      "text/plain": [
       "tensor([[[[ 1.4784,  0.6100],\n",
       "          [-0.2559, -0.3479],\n",
       "          [-0.0519, -0.6329],\n",
       "          [-1.1310, -1.5377],\n",
       "          [ 1.6423, -0.6460]],\n",
       "\n",
       "         [[ 1.7608,  0.2980],\n",
       "          [ 1.3333,  1.9886],\n",
       "          [-0.8874, -2.0948],\n",
       "          [-0.2546, -1.0440],\n",
       "          [ 1.1178,  1.7978]],\n",
       "\n",
       "         [[-0.3339, -0.6165],\n",
       "          [ 0.1391, -1.0585],\n",
       "          [ 0.1983,  1.2545],\n",
       "          [ 0.6938,  1.3880],\n",
       "          [ 2.2934, -1.4378]],\n",
       "\n",
       "         [[-1.4357, -0.1730],\n",
       "          [ 0.2697,  0.5900],\n",
       "          [-1.0512,  0.6419],\n",
       "          [-0.5078, -1.3911],\n",
       "          [-0.0199,  1.0300]]],\n",
       "\n",
       "\n",
       "        [[[-0.9883, -0.3857],\n",
       "          [-1.9513,  1.0926],\n",
       "          [-1.2424,  0.8061],\n",
       "          [ 0.3809,  0.3755],\n",
       "          [ 1.8867, -0.2232]],\n",
       "\n",
       "         [[-0.2891,  0.3297],\n",
       "          [ 0.0301,  1.3640],\n",
       "          [-0.6065, -0.8177],\n",
       "          [ 0.5573,  0.1826],\n",
       "          [-0.0864, -2.7559]],\n",
       "\n",
       "         [[-0.6121,  0.6962],\n",
       "          [-0.0536, -0.1351],\n",
       "          [ 0.4971,  0.8852],\n",
       "          [ 0.4970, -0.4896],\n",
       "          [ 0.9320,  0.5859]],\n",
       "\n",
       "         [[-0.5713,  0.0882],\n",
       "          [ 0.1377,  1.9350],\n",
       "          [-1.9135, -0.5610],\n",
       "          [ 0.3597,  1.2444],\n",
       "          [ 0.9411,  0.9144]]],\n",
       "\n",
       "\n",
       "        [[[ 0.1285,  0.3675],\n",
       "          [ 1.6594, -0.7338],\n",
       "          [ 0.9781,  0.6045],\n",
       "          [-0.3084, -0.6518],\n",
       "          [-1.0910,  0.1357]],\n",
       "\n",
       "         [[ 0.9436,  0.5993],\n",
       "          [-0.8567, -0.4934],\n",
       "          [-1.2176,  0.0757],\n",
       "          [-0.7354,  1.4901],\n",
       "          [ 0.1534, -3.3143]],\n",
       "\n",
       "         [[-1.0362,  1.0584],\n",
       "          [-0.8422, -0.7281],\n",
       "          [-0.6215, -1.1949],\n",
       "          [ 0.4609, -0.2670],\n",
       "          [ 1.1333, -0.5587]],\n",
       "\n",
       "         [[-0.6797, -0.3999],\n",
       "          [-0.1914, -0.1112],\n",
       "          [-0.1133, -1.0323],\n",
       "          [-0.6519, -1.2408],\n",
       "          [ 2.5695,  0.9149]]]])"
      ]
     },
     "execution_count": 128,
     "metadata": {},
     "output_type": "execute_result"
    }
   ],
   "source": [
    "As"
   ]
  },
  {
   "cell_type": "code",
   "execution_count": 130,
   "id": "76706dca",
   "metadata": {},
   "outputs": [],
   "source": [
    "p = torch.arange(0, 10)"
   ]
  },
  {
   "cell_type": "code",
   "execution_count": 131,
   "id": "281c2cef",
   "metadata": {
    "scrolled": true
   },
   "outputs": [
    {
     "data": {
      "text/plain": [
       "tensor([0, 1, 2, 3, 4, 5, 6, 7, 8, 9])"
      ]
     },
     "execution_count": 131,
     "metadata": {},
     "output_type": "execute_result"
    }
   ],
   "source": [
    "p"
   ]
  },
  {
   "cell_type": "code",
   "execution_count": 136,
   "id": "2f38af4a",
   "metadata": {},
   "outputs": [],
   "source": [
    "p1 = p.expand(2,10)"
   ]
  },
  {
   "cell_type": "code",
   "execution_count": 135,
   "id": "bce7ca59",
   "metadata": {},
   "outputs": [
    {
     "data": {
      "text/plain": [
       "tensor([[0, 1, 2, 3, 4, 5, 6, 7, 8, 9],\n",
       "        [0, 1, 2, 3, 4, 5, 6, 7, 8, 9]])"
      ]
     },
     "execution_count": 135,
     "metadata": {},
     "output_type": "execute_result"
    }
   ],
   "source": [
    "p1"
   ]
  },
  {
   "cell_type": "code",
   "execution_count": 129,
   "id": "aa289e60",
   "metadata": {},
   "outputs": [
    {
     "data": {
      "text/plain": [
       "tensor([[[[ 1.4784,  0.6100],\n",
       "          [-0.2559, -0.3479],\n",
       "          [-0.0519, -0.6329],\n",
       "          [-1.1310, -1.5377],\n",
       "          [ 1.6423, -0.6460]],\n",
       "\n",
       "         [[-0.9883, -0.3857],\n",
       "          [-1.9513,  1.0926],\n",
       "          [-1.2424,  0.8061],\n",
       "          [ 0.3809,  0.3755],\n",
       "          [ 1.8867, -0.2232]],\n",
       "\n",
       "         [[ 0.1285,  0.3675],\n",
       "          [ 1.6594, -0.7338],\n",
       "          [ 0.9781,  0.6045],\n",
       "          [-0.3084, -0.6518],\n",
       "          [-1.0910,  0.1357]]],\n",
       "\n",
       "\n",
       "        [[[ 1.7608,  0.2980],\n",
       "          [ 1.3333,  1.9886],\n",
       "          [-0.8874, -2.0948],\n",
       "          [-0.2546, -1.0440],\n",
       "          [ 1.1178,  1.7978]],\n",
       "\n",
       "         [[-0.2891,  0.3297],\n",
       "          [ 0.0301,  1.3640],\n",
       "          [-0.6065, -0.8177],\n",
       "          [ 0.5573,  0.1826],\n",
       "          [-0.0864, -2.7559]],\n",
       "\n",
       "         [[ 0.9436,  0.5993],\n",
       "          [-0.8567, -0.4934],\n",
       "          [-1.2176,  0.0757],\n",
       "          [-0.7354,  1.4901],\n",
       "          [ 0.1534, -3.3143]]],\n",
       "\n",
       "\n",
       "        [[[-0.3339, -0.6165],\n",
       "          [ 0.1391, -1.0585],\n",
       "          [ 0.1983,  1.2545],\n",
       "          [ 0.6938,  1.3880],\n",
       "          [ 2.2934, -1.4378]],\n",
       "\n",
       "         [[-0.6121,  0.6962],\n",
       "          [-0.0536, -0.1351],\n",
       "          [ 0.4971,  0.8852],\n",
       "          [ 0.4970, -0.4896],\n",
       "          [ 0.9320,  0.5859]],\n",
       "\n",
       "         [[-1.0362,  1.0584],\n",
       "          [-0.8422, -0.7281],\n",
       "          [-0.6215, -1.1949],\n",
       "          [ 0.4609, -0.2670],\n",
       "          [ 1.1333, -0.5587]]],\n",
       "\n",
       "\n",
       "        [[[-1.4357, -0.1730],\n",
       "          [ 0.2697,  0.5900],\n",
       "          [-1.0512,  0.6419],\n",
       "          [-0.5078, -1.3911],\n",
       "          [-0.0199,  1.0300]],\n",
       "\n",
       "         [[-0.5713,  0.0882],\n",
       "          [ 0.1377,  1.9350],\n",
       "          [-1.9135, -0.5610],\n",
       "          [ 0.3597,  1.2444],\n",
       "          [ 0.9411,  0.9144]],\n",
       "\n",
       "         [[-0.6797, -0.3999],\n",
       "          [-0.1914, -0.1112],\n",
       "          [-0.1133, -1.0323],\n",
       "          [-0.6519, -1.2408],\n",
       "          [ 2.5695,  0.9149]]]])"
      ]
     },
     "execution_count": 129,
     "metadata": {},
     "output_type": "execute_result"
    }
   ],
   "source": [
    "torch.transpose(As, 0, 1)"
   ]
  },
  {
   "cell_type": "code",
   "execution_count": 127,
   "id": "3487234d",
   "metadata": {},
   "outputs": [],
   "source": [
    "As = torch.randn(3,4,5,2)\n",
    ">>> Bs = torch.randn(3,5,4,4)"
   ]
  },
  {
   "cell_type": "code",
   "execution_count": 105,
   "id": "6e2e44c0",
   "metadata": {},
   "outputs": [
    {
     "data": {
      "text/plain": [
       "tensor([[[-0.3274,  0.4067,  0.7915, -0.9218],\n",
       "         [-0.2211, -0.1110,  1.0142, -1.5721],\n",
       "         [-0.3004,  0.0391, -0.7340, -1.6218],\n",
       "         [-0.4886,  0.6967, -1.4779, -2.0814],\n",
       "         [ 1.2469, -0.1185,  1.1148, -0.0089]],\n",
       "\n",
       "        [[-0.5194,  0.5981,  2.5886,  0.7908],\n",
       "         [ 0.5334,  0.1593, -1.4439, -1.3565],\n",
       "         [ 1.0097, -0.8166,  0.6640,  1.3888],\n",
       "         [-2.1499,  0.6718, -1.4159, -0.4690],\n",
       "         [ 0.3429,  1.1022,  0.2276,  1.7561]],\n",
       "\n",
       "        [[-0.7914, -1.0660,  0.0533,  0.7633],\n",
       "         [ 1.6805, -0.6831,  0.5696, -0.8499],\n",
       "         [ 1.8896, -0.6065,  0.4379,  0.0985],\n",
       "         [ 1.2468, -1.1428,  0.7250, -0.2265],\n",
       "         [ 0.5234,  0.4987,  0.7124, -1.2065]]])"
      ]
     },
     "execution_count": 105,
     "metadata": {},
     "output_type": "execute_result"
    }
   ],
   "source": [
    "Bs"
   ]
  },
  {
   "cell_type": "code",
   "execution_count": 120,
   "id": "2618ae72",
   "metadata": {},
   "outputs": [
    {
     "data": {
      "text/plain": [
       "<function Tensor.transpose>"
      ]
     },
     "execution_count": 120,
     "metadata": {},
     "output_type": "execute_result"
    }
   ],
   "source": [
    "As"
   ]
  },
  {
   "cell_type": "code",
   "execution_count": 103,
   "id": "68ff96fb",
   "metadata": {},
   "outputs": [
    {
     "data": {
      "text/plain": [
       "tensor([[[ 0.6600, -0.4270, -1.0084,  0.2902],\n",
       "         [ 1.8163, -0.1611,  3.7545,  2.5904]],\n",
       "\n",
       "        [[ 2.5754,  1.1506, -1.1592, -1.4451],\n",
       "         [-0.4535,  0.3962,  1.3328, -2.2685]],\n",
       "\n",
       "        [[-3.0941, -1.0298, -1.2878,  1.7760],\n",
       "         [-2.1683,  1.3756, -0.3490, -0.0429]]])"
      ]
     },
     "execution_count": 103,
     "metadata": {},
     "output_type": "execute_result"
    }
   ],
   "source": [
    "As = torch.randn(3,2,5)\n",
    ">>> Bs = torch.randn(3,5,4)\n",
    ">>> torch.einsum('bij,bjk->bik', As, Bs)"
   ]
  },
  {
   "cell_type": "code",
   "execution_count": 33,
   "id": "a8087f48",
   "metadata": {},
   "outputs": [],
   "source": [
    "nn.ModuleList?"
   ]
  },
  {
   "cell_type": "code",
   "execution_count": 48,
   "id": "4fdbb890",
   "metadata": {},
   "outputs": [],
   "source": [
    "x = [0,2,3]"
   ]
  },
  {
   "cell_type": "code",
   "execution_count": 60,
   "id": "77fb6836",
   "metadata": {},
   "outputs": [],
   "source": [
    "ar = torch.rand(3, 2)"
   ]
  },
  {
   "cell_type": "code",
   "execution_count": 61,
   "id": "a5855616",
   "metadata": {},
   "outputs": [
    {
     "data": {
      "text/plain": [
       "tensor([[0.5677, 0.0873],\n",
       "        [0.6845, 0.3483],\n",
       "        [0.1930, 0.2099]])"
      ]
     },
     "execution_count": 61,
     "metadata": {},
     "output_type": "execute_result"
    }
   ],
   "source": [
    "ar"
   ]
  },
  {
   "cell_type": "code",
   "execution_count": 66,
   "id": "3f0e5741",
   "metadata": {},
   "outputs": [],
   "source": [
    "torch.reshape?"
   ]
  },
  {
   "cell_type": "code",
   "execution_count": 28,
   "id": "cc5ebfd0",
   "metadata": {},
   "outputs": [],
   "source": [
    "x = range(len([64, 128, 256, 512]))  "
   ]
  },
  {
   "cell_type": "code",
   "execution_count": 22,
   "id": "8e6155cd",
   "metadata": {},
   "outputs": [],
   "source": [
    "dpr = [x.item() for x in torch.linspace(0, 0., sum([3, 4, 8, 3]))]"
   ]
  },
  {
   "cell_type": "code",
   "execution_count": 24,
   "id": "4db81b16",
   "metadata": {},
   "outputs": [
    {
     "data": {
      "text/plain": [
       "[0.0,\n",
       " 0.0,\n",
       " 0.0,\n",
       " 0.0,\n",
       " 0.0,\n",
       " 0.0,\n",
       " 0.0,\n",
       " 0.0,\n",
       " 0.0,\n",
       " 0.0,\n",
       " 0.0,\n",
       " 0.0,\n",
       " 0.0,\n",
       " 0.0,\n",
       " 0.0,\n",
       " 0.0,\n",
       " 0.0,\n",
       " 0.0]"
      ]
     },
     "execution_count": 24,
     "metadata": {},
     "output_type": "execute_result"
    }
   ],
   "source": [
    "dpr"
   ]
  },
  {
   "cell_type": "code",
   "execution_count": 20,
   "id": "297b182c",
   "metadata": {},
   "outputs": [
    {
     "data": {
      "text/plain": [
       "0"
      ]
     },
     "execution_count": 20,
     "metadata": {},
     "output_type": "execute_result"
    }
   ],
   "source": [
    "1//2"
   ]
  },
  {
   "cell_type": "code",
   "execution_count": 82,
   "id": "0eb6ff7d",
   "metadata": {
    "scrolled": true
   },
   "outputs": [
    {
     "name": "stdout",
     "output_type": "stream",
     "text": [
      "torch.Size([2, 64, 56, 56])\n"
     ]
    }
   ],
   "source": [
    "model = CNN()\n",
    "x = torch.randn(2, 3, 224, 224)\n",
    "print(model(x).shape)"
   ]
  },
  {
   "cell_type": "code",
   "execution_count": 10,
   "id": "4fa7eb43",
   "metadata": {},
   "outputs": [
    {
     "name": "stdout",
     "output_type": "stream",
     "text": [
      "Available Themes: \r\n",
      "   chesterish\r\n",
      "   grade3\r\n",
      "   gruvboxd\r\n",
      "   gruvboxl\r\n",
      "   monokai\r\n",
      "   oceans16\r\n",
      "   onedork\r\n",
      "   solarizedd\r\n",
      "   solarizedl\r\n"
     ]
    }
   ],
   "source": [
    "!jt -l"
   ]
  },
  {
   "cell_type": "code",
   "execution_count": 9,
   "id": "6bcfa739",
   "metadata": {},
   "outputs": [],
   "source": [
    "!jt -t chesterish"
   ]
  },
  {
   "cell_type": "code",
   "execution_count": 70,
   "id": "bdb2b350",
   "metadata": {},
   "outputs": [
    {
     "name": "stdout",
     "output_type": "stream",
     "text": [
      "Files already downloaded and verified\n",
      "Files already downloaded and verified\n"
     ]
    }
   ],
   "source": [
    "transform = transforms.Compose(\n",
    "    [transforms.ToTensor(),\n",
    "     transforms.Normalize((0.5, 0.5, 0.5), (0.5, 0.5, 0.5))])\n",
    "\n",
    "batch_size = 4\n",
    "\n",
    "trainset = torchvision.datasets.CIFAR10(root='./data', train=True,\n",
    "                                        download=True, transform=transform)\n",
    "trainloader = torch.utils.data.DataLoader(trainset, batch_size=batch_size,\n",
    "                                          shuffle=True, num_workers=2)\n",
    "\n",
    "testset = torchvision.datasets.CIFAR10(root='./data', train=False,\n",
    "                                       download=True, transform=transform)\n",
    "testloader = torch.utils.data.DataLoader(testset, batch_size=batch_size,\n",
    "                                         shuffle=False, num_workers=2)\n",
    "\n",
    "classes = ('plane', 'car', 'bird', 'cat',\n",
    "           'deer', 'dog', 'frog', 'horse', 'ship', 'truck')"
   ]
  },
  {
   "cell_type": "code",
   "execution_count": 71,
   "id": "71f02813",
   "metadata": {
    "scrolled": true
   },
   "outputs": [
    {
     "data": {
      "image/png": "[encoded data removed]",
      "text/plain": [
       "<Figure size 432x288 with 1 Axes>"
      ]
     },
     "metadata": {
      "needs_background": "light"
     },
     "output_type": "display_data"
    },
    {
     "name": "stdout",
     "output_type": "stream",
     "text": [
      "dog   car   bird  truck\n"
     ]
    }
   ],
   "source": [
    "def imshow(img):\n",
    "    img = img / 2 + 0.5     # unnormalize\n",
    "    npimg = img.numpy()\n",
    "    plt.imshow(np.transpose(npimg, (1, 2, 0)))\n",
    "    plt.show()\n",
    "\n",
    "# get some random training images\n",
    "dataiter = iter(trainloader)\n",
    "images, labels = dataiter.next()\n",
    "\n",
    "# show images\n",
    "imshow(torchvision.utils.make_grid(images))\n",
    "# print labels\n",
    "print(' '.join(f'{classes[labels[j]]:5s}' for j in range(batch_size)))"
   ]
  },
  {
   "cell_type": "code",
   "execution_count": 72,
   "id": "bea02780",
   "metadata": {},
   "outputs": [],
   "source": [
    "criterion = nn.CrossEntropyLoss()\n",
    "optimizer = optim.SGD(cnn.parameters(), lr=0.001, momentum=0.9)"
   ]
  },
  {
   "cell_type": "code",
   "execution_count": 73,
   "id": "88daac7d",
   "metadata": {},
   "outputs": [
    {
     "name": "stdout",
     "output_type": "stream",
     "text": [
      "[1,  2000] loss: 3.300\n",
      "[1,  4000] loss: 2.822\n",
      "[1,  6000] loss: 2.738\n",
      "[1,  8000] loss: 2.716\n",
      "[1, 10000] loss: 2.757\n",
      "[1, 12000] loss: 2.726\n",
      "[2,  2000] loss: 2.689\n",
      "[2,  4000] loss: 2.687\n",
      "[2,  6000] loss: 2.671\n",
      "[2,  8000] loss: 2.663\n",
      "[2, 10000] loss: 2.687\n",
      "[2, 12000] loss: 2.664\n",
      "Finished Training\n"
     ]
    }
   ],
   "source": [
    "for epoch in range(2):  # loop over the dataset multiple times\n",
    "\n",
    "    running_loss = 0.0\n",
    "    for i, data in enumerate(trainloader, 0):\n",
    "        # get the inputs; data is a list of [inputs, labels]\n",
    "        inputs, labels = data\n",
    "\n",
    "        # zero the parameter gradients\n",
    "        optimizer.zero_grad()\n",
    "\n",
    "        # forward + backward + optimize\n",
    "        outputs = cnn(inputs)\n",
    "        loss = criterion(outputs, labels)\n",
    "        loss.backward()\n",
    "        optimizer.step()\n",
    "\n",
    "        # print statistics\n",
    "        running_loss += loss.item()\n",
    "        if i % 2000 == 1999:    # print every 2000 mini-batches\n",
    "            print(f'[{epoch + 1}, {i + 1:5d}] loss: {running_loss / 2000:.3f}')\n",
    "            running_loss = 0.0\n",
    "\n",
    "print('Finished Training')"
   ]
  },
  {
   "cell_type": "code",
   "execution_count": 75,
   "id": "b1e52547",
   "metadata": {},
   "outputs": [],
   "source": [
    "PATH = './cifar_net.pth'\n",
    "torch.save(cnn.state_dict(), PATH)"
   ]
  },
  {
   "cell_type": "code",
   "execution_count": 74,
   "id": "2e210477",
   "metadata": {},
   "outputs": [
    {
     "data": {
      "image/png": "[encoded data removed]",
      "text/plain": [
       "<Figure size 432x288 with 1 Axes>"
      ]
     },
     "metadata": {
      "needs_background": "light"
     },
     "output_type": "display_data"
    },
    {
     "name": "stdout",
     "output_type": "stream",
     "text": [
      "GroundTruth:  cat   ship  ship  plane\n"
     ]
    }
   ],
   "source": [
    "dataiter = iter(testloader)\n",
    "images, labels = dataiter.next()\n",
    "\n",
    "# print images\n",
    "imshow(torchvision.utils.make_grid(images))\n",
    "print('GroundTruth: ', ' '.join(f'{classes[labels[j]]:5s}' for j in range(4)))"
   ]
  },
  {
   "cell_type": "code",
   "execution_count": 76,
   "id": "2acaba51",
   "metadata": {},
   "outputs": [
    {
     "data": {
      "text/plain": [
       "<All keys matched successfully>"
      ]
     },
     "execution_count": 76,
     "metadata": {},
     "output_type": "execute_result"
    }
   ],
   "source": [
    "cnn.load_state_dict(torch.load(PATH))"
   ]
  },
  {
   "cell_type": "code",
   "execution_count": 77,
   "id": "5da9248e",
   "metadata": {},
   "outputs": [],
   "source": [
    "outputs = cnn(images)"
   ]
  },
  {
   "cell_type": "code",
   "execution_count": 78,
   "id": "8fcc115d",
   "metadata": {},
   "outputs": [
    {
     "name": "stdout",
     "output_type": "stream",
     "text": [
      "Predicted:  deer  plane plane plane\n"
     ]
    }
   ],
   "source": [
    "_, predicted = torch.max(outputs, 1)\n",
    "\n",
    "print('Predicted: ', ' '.join(f'{classes[predicted[j]]:5s}'\n",
    "                              for j in range(4)))"
   ]
  },
  {
   "cell_type": "code",
   "execution_count": 79,
   "id": "ecaa3241",
   "metadata": {},
   "outputs": [
    {
     "name": "stdout",
     "output_type": "stream",
     "text": [
      "Accuracy of the network on the 10000 test images: 15 %\n"
     ]
    }
   ],
   "source": [
    "correct = 0\n",
    "total = 0\n",
    "# since we're not training, we don't need to calculate the gradients for our outputs\n",
    "with torch.no_grad():\n",
    "    for data in testloader:\n",
    "        images, labels = data\n",
    "        # calculate outputs by running images through the network\n",
    "        outputs = cnn(images)\n",
    "        # the class with the highest energy is what we choose as prediction\n",
    "        _, predicted = torch.max(outputs.data, 1)\n",
    "        total += labels.size(0)\n",
    "        correct += (predicted == labels).sum().item()\n",
    "\n",
    "print(f'Accuracy of the network on the 10000 test images: {100 * correct // total} %')"
   ]
  },
  {
   "cell_type": "code",
   "execution_count": 80,
   "id": "0441dec9",
   "metadata": {},
   "outputs": [
    {
     "name": "stdout",
     "output_type": "stream",
     "text": [
      "Accuracy for class: plane is 78.5 %\n",
      "Accuracy for class: car   is 12.7 %\n",
      "Accuracy for class: bird  is 11.4 %\n",
      "Accuracy for class: cat   is 11.0 %\n",
      "Accuracy for class: deer  is 9.8 %\n",
      "Accuracy for class: dog   is 10.1 %\n",
      "Accuracy for class: frog  is 14.5 %\n",
      "Accuracy for class: horse is 11.8 %\n",
      "Accuracy for class: ship  is 0.0 %\n",
      "Accuracy for class: truck is 0.0 %\n"
     ]
    }
   ],
   "source": [
    "# prepare to count predictions for each class\n",
    "correct_pred = {classname: 0 for classname in classes}\n",
    "total_pred = {classname: 0 for classname in classes}\n",
    "\n",
    "# again no gradients needed\n",
    "with torch.no_grad():\n",
    "    for data in testloader:\n",
    "        images, labels = data\n",
    "        outputs = cnn(images)\n",
    "        _, predictions = torch.max(outputs, 1)\n",
    "        # collect the correct predictions for each class\n",
    "        for label, prediction in zip(labels, predictions):\n",
    "            if label == prediction:\n",
    "                correct_pred[classes[label]] += 1\n",
    "            total_pred[classes[label]] += 1\n",
    "\n",
    "\n",
    "# print accuracy for each class\n",
    "for classname, correct_count in correct_pred.items():\n",
    "    accuracy = 100 * float(correct_count) / total_pred[classname]\n",
    "    print(f'Accuracy for class: {classname:5s} is {accuracy:.1f} %')"
   ]
  }
 ],
 "metadata": {
  "kernelspec": {
   "display_name": "Python 3.8.9 64-bit",
   "language": "python",
   "name": "python3"
  },
  "language_info": {
   "codemirror_mode": {
    "name": "ipython",
    "version": 3
   },
   "file_extension": ".py",
   "mimetype": "text/x-python",
   "name": "python",
   "nbconvert_exporter": "python",
   "pygments_lexer": "ipython3",
   "version": "3.8.9"
  },
  "vscode": {
   "interpreter": {
    "hash": "31f2aee4e71d21fbe5cf8b01ff0e069b9275f58929596ceb00d14d90e3e16cd6"
   }
  }
 },
 "nbformat": 4,
 "nbformat_minor": 5
}
